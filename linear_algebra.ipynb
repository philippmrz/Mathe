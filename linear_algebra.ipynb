{
 "cells": [
  {
   "cell_type": "markdown",
   "metadata": {},
   "source": [
    "# Linear Algebra Uni Notes / Playground\n",
    "This notebook is dedicated to playing around with LinAlg concepts in Python in order to gain a more intuitive understanding. I'll try to keep everything structured and well-explained, but no guarantees...\n",
    "If I'm having troubles understanding any concept, it'll appear in this notebook.        \n",
    "## 1. Playing around with the linalg np package"
   ]
  },
  {
   "cell_type": "code",
   "execution_count": 3,
   "metadata": {},
   "outputs": [],
   "source": [
    "from numpy import linalg as la\n",
    "import numpy as np\n",
    "\n",
    "from IPython.display import display"
   ]
  },
  {
   "cell_type": "code",
   "execution_count": 21,
   "metadata": {},
   "outputs": [
    {
     "data": {
      "text/plain": [
       "array([[0.99558256, 0.7204289 , 0.11550089],\n",
       "       [0.02886177, 0.38987577, 0.72597734],\n",
       "       [0.9277433 , 0.6418313 , 0.79999234]])"
      ]
     },
     "metadata": {},
     "output_type": "display_data"
    },
    {
     "data": {
      "text/plain": [
       "array([[1, 0, 0],\n",
       "       [0, 1, 0],\n",
       "       [0, 0, 1]])"
      ]
     },
     "metadata": {},
     "output_type": "display_data"
    }
   ],
   "source": [
    "A = np.random.rand(3,3)\n",
    "B = np.array([[1, 0, 0],\n",
    "              [0, 1, 0],\n",
    "              [0, 0, 1]])\n",
    "C = np.array([[1, 2, 4],\n",
    "              [0, 0, 0],\n",
    "              [0, 0, 0]])\n",
    "display(A, B)"
   ]
  },
  {
   "cell_type": "code",
   "execution_count": 22,
   "metadata": {},
   "outputs": [
    {
     "data": {
      "text/plain": [
       "0.27557514981046366"
      ]
     },
     "execution_count": 22,
     "metadata": {},
     "output_type": "execute_result"
    }
   ],
   "source": [
    "#Basic matrix computations:\n",
    "la.det(A)"
   ]
  },
  {
   "cell_type": "code",
   "execution_count": 23,
   "metadata": {},
   "outputs": [
    {
     "data": {
      "text/plain": [
       "1.0"
      ]
     },
     "execution_count": 23,
     "metadata": {},
     "output_type": "execute_result"
    }
   ],
   "source": [
    "la.det(B)"
   ]
  },
  {
   "cell_type": "code",
   "execution_count": 24,
   "metadata": {},
   "outputs": [
    {
     "data": {
      "text/plain": [
       "1.0"
      ]
     },
     "execution_count": 24,
     "metadata": {},
     "output_type": "execute_result"
    }
   ],
   "source": [
    "la.norm(B, 2)"
   ]
  },
  {
   "cell_type": "code",
   "execution_count": 25,
   "metadata": {},
   "outputs": [
    {
     "data": {
      "text/plain": [
       "(array([1., 1., 1.]),\n",
       " array([[1., 0., 0.],\n",
       "        [0., 1., 0.],\n",
       "        [0., 0., 1.]]))"
      ]
     },
     "execution_count": 25,
     "metadata": {},
     "output_type": "execute_result"
    }
   ],
   "source": [
    "la.eig(B)"
   ]
  },
  {
   "cell_type": "code",
   "execution_count": 26,
   "metadata": {},
   "outputs": [
    {
     "data": {
      "text/plain": [
       "3"
      ]
     },
     "execution_count": 26,
     "metadata": {},
     "output_type": "execute_result"
    }
   ],
   "source": [
    "la.matrix_rank(A)"
   ]
  },
  {
   "cell_type": "code",
   "execution_count": 28,
   "metadata": {},
   "outputs": [
    {
     "data": {
      "text/plain": [
       "1"
      ]
     },
     "execution_count": 28,
     "metadata": {},
     "output_type": "execute_result"
    }
   ],
   "source": [
    "la.matrix_rank(C)"
   ]
  },
  {
   "cell_type": "code",
   "execution_count": 31,
   "metadata": {},
   "outputs": [
    {
     "data": {
      "text/plain": [
       "array([[1., 0., 0.],\n",
       "       [0., 1., 0.],\n",
       "       [0., 0., 1.]])"
      ]
     },
     "execution_count": 31,
     "metadata": {},
     "output_type": "execute_result"
    }
   ],
   "source": [
    "la.inv(B)"
   ]
  },
  {
   "cell_type": "code",
   "execution_count": 33,
   "metadata": {},
   "outputs": [
    {
     "data": {
      "text/plain": [
       "array([[1., 0., 0.],\n",
       "       [0., 1., 0.],\n",
       "       [0., 0., 1.]])"
      ]
     },
     "execution_count": 33,
     "metadata": {},
     "output_type": "execute_result"
    }
   ],
   "source": [
    "la.inv(B) @ B"
   ]
  },
  {
   "cell_type": "markdown",
   "metadata": {},
   "source": [
    "## Applying (my current understanding of) eigendecomposition\n",
    "From the [Wikipedia article on eigendecomposition](https://en.m.wikipedia.org/wiki/Eigendecomposition_of_a_matrix):<br>\n",
    "\"In linear algebra, eigendecomposition or sometimes spectral decomposition is the factorization of a matrix into a canonical form, whereby the matrix is represented in terms of its eigenvalues and eigenvectors. Only diagonalizable matrices can be factorized in this way.\"<br>\n",
    "Specifically, a matrix can be represented as  \n",
    "$$A=QΛQ^{-1}$$\n",
    "where $Q$'s columns are the eigenvectors of $A$ and $Λ$ is a diagonal matrix with $A$'s eigenvalues as diagonal elements.  \n",
    "This concept is easy to grasp once matrices are understood in a geometric way rather than purely mathematically:<br>![Derivation of eigendecomposition](derivation.png)<br>\n",
    "As eigenvectors are only scaled, not rotated, by a matrix transformation, we can equate the product of a matrix and its eigenvector to the factor by which this eigenvector is scaled times this eigenvector. This is generalized include all the eigenvectors (columns of Q) and all the eigenvalues (diagonal elements of Λ). After rearranging, the decomposition relationship is done."
   ]
  },
  {
   "cell_type": "code",
   "execution_count": 33,
   "metadata": {},
   "outputs": [
    {
     "data": {
      "text/plain": [
       "(array([[0.81557044, 0.01433876],\n",
       "        [0.06923305, 0.72515819]]),\n",
       " array([[0.81557044, 0.01433876],\n",
       "        [0.06923305, 0.72515819]]))"
      ]
     },
     "execution_count": 33,
     "metadata": {},
     "output_type": "execute_result"
    }
   ],
   "source": [
    "A = np.random.rand(2, 2)\n",
    "\n",
    "λ, Q = la.eig(A)\n",
    "Λ = np.array([[λ[0], 0], \n",
    "              [0, λ[1]]])\n",
    "A_star = Q @ Λ @ la.inv(Q)\n",
    "A_star, A #Equal, so it worked, yay!"
   ]
  },
  {
   "cell_type": "markdown",
   "metadata": {},
   "source": [
    "## Orthonormal Matrices\n",
    "An orthogonal matrix is a matrix whose rows and columns are orthogonal. On [wikipedia](https://en.wikipedia.org/wiki/Invertible_matrix#Eigendecomposition), it says<br>\"Since $Q$ is formed from the eigenvectors of $A$, it is guaranteed to be an orthogonal matrix, therefore $Q^{-1}=Q^{T}$.\"  \n",
    "An intuition for why this holds was needed, so [this](https://math.stackexchange.com/questions/1766669/why-if-a-matrix-q-is-orthogonal-then-qt-q-i) stackexchange thread came to my rescue."
   ]
  },
  {
   "cell_type": "code",
   "execution_count": null,
   "metadata": {},
   "outputs": [],
   "source": [
    "#TODO: add this section"
   ]
  }
 ],
 "metadata": {
  "kernelspec": {
   "display_name": "Python 3",
   "language": "python",
   "name": "python3"
  },
  "language_info": {
   "codemirror_mode": {
    "name": "ipython",
    "version": 3
   },
   "file_extension": ".py",
   "mimetype": "text/x-python",
   "name": "python",
   "nbconvert_exporter": "python",
   "pygments_lexer": "ipython3",
   "version": "3.7.6"
  }
 },
 "nbformat": 4,
 "nbformat_minor": 4
}
